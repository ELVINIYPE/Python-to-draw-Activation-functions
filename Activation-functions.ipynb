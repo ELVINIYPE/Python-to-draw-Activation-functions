{
 "cells": [
  {
   "cell_type": "code",
   "execution_count": 1,
   "metadata": {},
   "outputs": [],
   "source": [
    "import numpy as np\n",
    "import matplotlib.pyplot as plt"
   ]
  },
  {
   "cell_type": "code",
   "execution_count": 2,
   "metadata": {},
   "outputs": [
    {
     "name": "stdout",
     "output_type": "stream",
     "text": [
      "For AND operator\n"
     ]
    },
    {
     "data": {
      "text/plain": [
       "[]"
      ]
     },
     "execution_count": 2,
     "metadata": {},
     "output_type": "execute_result"
    },
    {
     "data": {
      "image/png": "[encoded data removed]",
      "text/plain": [
       "<Figure size 432x288 with 1 Axes>"
      ]
     },
     "metadata": {
      "needs_background": "light"
     },
     "output_type": "display_data"
    }
   ],
   "source": [
    "print(\"For AND operator\")\n",
    "fig, ax = plt.subplots()\n",
    "xmin, xmax = -0.2, 1.4\n",
    "X = np.arange(xmin, xmax, 0.1)\n",
    "ax.scatter(0, 0, color=\"r\")\n",
    "ax.scatter(0, 1, color=\"r\")\n",
    "ax.scatter(1, 0, color=\"r\")\n",
    "ax.scatter(1, 1, color=\"g\")\n",
    "ax.set_xlim([xmin, xmax])\n",
    "ax.set_ylim([-0.1, 1.1])\n",
    "m, c = -1, 1.2\n",
    "ax.plot(X, m * X + c )\n",
    "plt.plot()"
   ]
  },
  {
   "cell_type": "code",
   "execution_count": 3,
   "metadata": {},
   "outputs": [
    {
     "name": "stdout",
     "output_type": "stream",
     "text": [
      "[0, 0]\n",
      "[0, 1]\n",
      "[1, 0]\n",
      "[1, 1]\n"
     ]
    }
   ],
   "source": [
    "y = ([0,0],[0,1],[1,0],[1,1])\n",
    "for item in y:\n",
    "    print(item)"
   ]
  },
  {
   "cell_type": "code",
   "execution_count": 4,
   "metadata": {},
   "outputs": [],
   "source": [
    "def thresholdFunc(output):\n",
    "    if output < 0:\n",
    "        output = 0\n",
    "    if output > 1:\n",
    "        output = 1\n",
    "    return output"
   ]
  },
  {
   "cell_type": "code",
   "execution_count": 5,
   "metadata": {},
   "outputs": [
    {
     "name": "stdout",
     "output_type": "stream",
     "text": [
      "[0, 0] 0\n",
      "[0, 1] 0\n",
      "[1, 0] 0\n",
      "[1, 1] 1\n"
     ]
    }
   ],
   "source": [
    "w1 = 1\n",
    "w2 = 1\n",
    "b = -1\n",
    "for item in y:\n",
    "    x1 = item[0]\n",
    "    x2 = item[1]\n",
    "    output = w1*x1+w2*x2+b\n",
    "    output = thresholdFunc(output)\n",
    "    print(str(item)+\" \"+str(output))"
   ]
  },
  {
   "cell_type": "code",
   "execution_count": 6,
   "metadata": {},
   "outputs": [
    {
     "name": "stdout",
     "output_type": "stream",
     "text": [
      "[0, 0] 0\n",
      "[0, 1] 1\n",
      "[1, 0] 1\n",
      "[1, 1] 1\n"
     ]
    }
   ],
   "source": [
    "w1 = 2\n",
    "w2 = 2\n",
    "b = -1\n",
    "for item in y:\n",
    "    x1 = item[0]\n",
    "    x2 = item[1]\n",
    "    output = w1*x1+w2*x2+b\n",
    "    output = thresholdFunc(output)\n",
    "    print(str(item)+\" \"+str(output))"
   ]
  },
  {
   "cell_type": "code",
   "execution_count": 7,
   "metadata": {},
   "outputs": [],
   "source": [
    "def sigmoid (x):\n",
    "    return 1/(1 + np.exp(-x))\n",
    "\n",
    "def sigmoid_derivative(x):\n",
    "    return x * (1 - x)"
   ]
  },
  {
   "cell_type": "code",
   "execution_count": 8,
   "metadata": {},
   "outputs": [],
   "source": [
    "def neuralNetworkModel(inputs,expected_output):\n",
    "    epochs = 10000\n",
    "    lr = 0.1\n",
    "    inputLayerNeurons, hiddenLayerNeurons, outputLayerNeurons = 2,2,1\n",
    "\n",
    "    #Random weights and bias initialization\n",
    "    hidden_weights = np.random.uniform(size=(inputLayerNeurons,hiddenLayerNeurons))\n",
    "    hidden_bias =np.random.uniform(size=(1,hiddenLayerNeurons))\n",
    "    output_weights = np.random.uniform(size=(hiddenLayerNeurons,outputLayerNeurons))\n",
    "    output_bias = np.random.uniform(size=(1,outputLayerNeurons))\n",
    "\n",
    "   \n",
    "\n",
    "    #Training algorithm\n",
    "    for _ in range(epochs):\n",
    "        #Forward Propagation\n",
    "        hidden_layer_activation = np.dot(inputs,hidden_weights)\n",
    "        hidden_layer_activation += hidden_bias\n",
    "        hidden_layer_output = sigmoid(hidden_layer_activation)\n",
    "\n",
    "        output_layer_activation = np.dot(hidden_layer_output,output_weights)\n",
    "        output_layer_activation += output_bias\n",
    "        predicted_output = sigmoid(output_layer_activation)\n",
    "\n",
    "        #Backpropagation\n",
    "        error = expected_output - predicted_output\n",
    "        d_predicted_output = error * sigmoid_derivative(predicted_output)\n",
    "\n",
    "        error_hidden_layer = d_predicted_output.dot(output_weights.T)\n",
    "        d_hidden_layer = error_hidden_layer * sigmoid_derivative(hidden_layer_output)\n",
    "\n",
    "        #Updating Weights and Biases\n",
    "        output_weights += hidden_layer_output.T.dot(d_predicted_output) * lr\n",
    "        output_bias += np.sum(d_predicted_output,axis=0,keepdims=True) * lr\n",
    "        hidden_weights += inputs.T.dot(d_hidden_layer) * lr\n",
    "        hidden_bias += np.sum(d_hidden_layer,axis=0,keepdims=True) * lr\n",
    "\n",
    " "
   ]
  },
  {
   "cell_type": "code",
   "execution_count": 9,
   "metadata": {
    "scrolled": true
   },
   "outputs": [
    {
     "name": "stdout",
     "output_type": "stream",
     "text": [
      "\n",
      "AND operator\n",
      "Initial hidden weights: [0.53695651 0.84081594] [0.51585307 0.5454667 ]\n",
      "Initial hidden biases: [0.63898646 0.01438379]\n",
      "Initial output weights: [0.81652304] [0.29081969]\n",
      "Initial output biases: [0.53458546]\n",
      "Final hidden weights: [2.10431866 3.33089761] [2.14393575 3.30300166]\n",
      "Final hidden bias: [-3.15426283 -4.96031802]\n",
      "Final output weights: [3.85307279] [6.86476962]\n",
      "Final output bias: [-5.48802635]\n",
      "\n",
      "Output from neural network after 10,000 epochs: [0.00505415] [0.03355943] [0.03344307] [0.96003084]\n",
      "\n",
      "OR operator\n",
      "Initial hidden weights: [0.95545885 0.64830108] [0.81520241 0.38498877]\n",
      "Initial hidden biases: [0.25731901 0.53057038]\n",
      "Initial output weights: [0.92523667] [0.93123645]\n",
      "Initial output biases: [0.07307403]\n",
      "Final hidden weights: [3.92882414 2.91539364] [3.95696876 2.87768286]\n",
      "Final hidden bias: [-2.13410956 -1.63813735]\n",
      "Final output weights: [5.99403036] [3.88519067]\n",
      "Final output bias: [-4.41259517]\n",
      "\n",
      "Output from neural network after 10,000 epochs: [0.04124856] [0.97725851] [0.97736577] [0.99544774]\n"
     ]
    }
   ],
   "source": [
    "\n",
    "inputs = np.array([[0,0],[0,1],[1,0],[1,1]])\n",
    "expected_output = np.array([[0],[0],[0],[1]])\n",
    "\n",
    "print(\"\\nAND operator\")\n",
    "neuralNetworkModel(inputs,expected_output)\n",
    "\n",
    "inputs = np.array([[0,0],[0,1],[1,0],[1,1]])\n",
    "expected_output = np.array([[0],[1],[1],[1]])\n",
    "\n",
    "\n",
    "neuralNetworkModel(inputs,expected_output)\n"
   ]
  },
  {
   "cell_type": "code",
   "execution_count": 10,
   "metadata": {},
   "outputs": [],
   "source": [
    "def relu(x) :\n",
    "    return max(x, 0)\n",
    "\n",
    "def der_relu(x):\n",
    "    if x <= 0 :\n",
    "        return 0\n",
    "    if x > 0 :\n",
    "        return 1\n",
    "\n",
    "def sigmoids(z):\n",
    "    s = 1 / (1 * np.exp(-z))\n",
    "    ds = s*(1-s)\n",
    "    return s, ds\n",
    "\n",
    "def tanh(x):\n",
    "    t=(np.exp(x)-np.exp(-x))/(np.exp(x)+np.exp(-x))\n",
    "    dt=1-t**2\n",
    "    return t,dt\n"
   ]
  },
  {
   "cell_type": "code",
   "execution_count": 11,
   "metadata": {},
   "outputs": [],
   "source": [
    "x= np.arange(-4,4,0.01)\n"
   ]
  },
  {
   "cell_type": "code",
   "execution_count": 12,
   "metadata": {},
   "outputs": [
    {
     "name": "stderr",
     "output_type": "stream",
     "text": [
      "C:\\Users\\Jeena\\Anaconda3\\lib\\site-packages\\ipykernel_launcher.py:12: UserWarning: Matplotlib is currently using module://ipykernel.pylab.backend_inline, which is a non-GUI backend, so cannot show the figure.\n",
      "  if sys.path[0] == '':\n"
     ]
    },
    {
     "data": {
      "image/png": "[encoded data removed]",
      "text/plain": [
       "<Figure size 648x360 with 1 Axes>"
      ]
     },
     "metadata": {
      "needs_background": "light"
     },
     "output_type": "display_data"
    }
   ],
   "source": [
    "# Setup centered axes\n",
    "fig, ax = plt.subplots(figsize=(9, 5))\n",
    "ax.spines['left'].set_position('center')\n",
    "ax.spines['right'].set_color('none')\n",
    "ax.spines['top'].set_color('none')\n",
    "ax.xaxis.set_ticks_position('bottom')\n",
    "ax.yaxis.set_ticks_position('left')\n",
    "# Create and show plot\n",
    "ax.plot(x,sigmoids(x)[0], color=\"#307EC7\", linewidth=3, label=\"sigmoid\")\n",
    "ax.plot(x,sigmoids(x)[1], color=\"#9621E2\", linewidth=3, label=\"derivative\")\n",
    "ax.legend(loc=\"upper right\", frameon=False)\n",
    "fig.show()"
   ]
  },
  {
   "cell_type": "code",
   "execution_count": 13,
   "metadata": {},
   "outputs": [
    {
     "name": "stderr",
     "output_type": "stream",
     "text": [
      "C:\\Users\\Jeena\\Anaconda3\\lib\\site-packages\\ipykernel_launcher.py:13: UserWarning: Matplotlib is currently using module://ipykernel.pylab.backend_inline, which is a non-GUI backend, so cannot show the figure.\n",
      "  del sys.path[0]\n"
     ]
    },
    {
     "data": {
      "image/png": "[encoded data removed]",
      "text/plain": [
       "<Figure size 648x360 with 1 Axes>"
      ]
     },
     "metadata": {
      "needs_background": "light"
     },
     "output_type": "display_data"
    }
   ],
   "source": [
    "# Setup centered axes\n",
    "fig, ax = plt.subplots(figsize=(9, 5))\n",
    "ax.spines['left'].set_position('center')\n",
    "ax.spines['bottom'].set_position('center')\n",
    "ax.spines['right'].set_color('none')\n",
    "ax.spines['top'].set_color('none')\n",
    "ax.xaxis.set_ticks_position('bottom')\n",
    "ax.yaxis.set_ticks_position('left')\n",
    "# Create and show plot\n",
    "ax.plot(x,tanh(x)[0], color=\"#307EC7\", linewidth=3, label=\"tanh\")\n",
    "ax.plot(x,tanh(x)[1], color=\"#9621E2\", linewidth=3, label=\"derivative\")\n",
    "ax.legend(loc=\"upper right\", frameon=False)\n",
    "fig.show()"
   ]
  },
  {
   "cell_type": "code",
   "execution_count": 14,
   "metadata": {},
   "outputs": [
    {
     "name": "stderr",
     "output_type": "stream",
     "text": [
      "C:\\Users\\Jeena\\Anaconda3\\lib\\site-packages\\ipykernel_launcher.py:13: UserWarning: Matplotlib is currently using module://ipykernel.pylab.backend_inline, which is a non-GUI backend, so cannot show the figure.\n",
      "  del sys.path[0]\n"
     ]
    },
    {
     "data": {
      "image/png": "[encoded data removed]",
      "text/plain": [
       "<Figure size 648x360 with 1 Axes>"
      ]
     },
     "metadata": {
      "needs_background": "light"
     },
     "output_type": "display_data"
    }
   ],
   "source": [
    "\n",
    "fig, ax = plt.subplots(figsize=(9, 5))\n",
    "ax.spines['left'].set_position('center')\n",
    "ax.spines['bottom'].set_position('center')\n",
    "ax.spines['right'].set_color('none')\n",
    "ax.spines['top'].set_color('none')\n",
    "ax.xaxis.set_ticks_position('bottom')\n",
    "ax.yaxis.set_ticks_position('left')\n",
    "# Create and show plot\n",
    "ax.plot(x,list(map(lambda x: relu(x),x)), color=\"#307EC7\", linewidth=3, label=\"relu\")\n",
    "ax.plot(x,list(map(lambda x: der_relu(x),x)), color=\"#9621E2\", linewidth=3, label=\"derivative\")\n",
    "ax.legend(loc=\"upper right\", frameon=False)\n",
    "fig.show()"
   ]
  },
  {
   "cell_type": "code",
   "execution_count": null,
   "metadata": {},
   "outputs": [],
   "source": []
  },
  {
   "cell_type": "code",
   "execution_count": null,
   "metadata": {},
   "outputs": [],
   "source": []
  }
 ],
 "metadata": {
  "kernelspec": {
   "display_name": "Python 3",
   "language": "python",
   "name": "python3"
  },
  "language_info": {
   "codemirror_mode": {
    "name": "ipython",
    "version": 3
   },
   "file_extension": ".py",
   "mimetype": "text/x-python",
   "name": "python",
   "nbconvert_exporter": "python",
   "pygments_lexer": "ipython3",
   "version": "3.7.4"
  }
 },
 "nbformat": 4,
 "nbformat_minor": 4
}
